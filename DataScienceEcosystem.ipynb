{
 "cells": [
  {
   "cell_type": "markdown",
   "id": "1a5a9b54-a392-43d8-a41a-7a1d539defa5",
   "metadata": {},
   "source": [
    "# Data Science Tools and Ecosystem"
   ]
  },
  {
   "cell_type": "markdown",
   "id": "3d19f2fd-d899-43f5-a39b-34ace635fabd",
   "metadata": {},
   "source": [
    "## Author\n",
    "Emma R B"
   ]
  },
  {
   "cell_type": "markdown",
   "id": "12bcd40e-8723-4304-bcc3-6cbbb98b3904",
   "metadata": {},
   "source": [
    "In this notebook, Data Science Tools and Ecosystem are summarized."
   ]
  },
  {
   "cell_type": "markdown",
   "id": "6e1a3d2f-3f63-4b17-b987-587d119f0317",
   "metadata": {},
   "source": [
    "**Objectives:**\n",
    " - popular languages\n",
    " - common libraries\n",
    " - arithmetic example"
   ]
  },
  {
   "cell_type": "markdown",
   "id": "7ead0b8e-31c6-44a9-883f-7014fbb85f59",
   "metadata": {},
   "source": [
    "Some of the popular languages that Data Scientists use are:\n",
    "1-Python\n",
    "2-R\n",
    "3-SQL"
   ]
  },
  {
   "cell_type": "markdown",
   "id": "7de8d08f-2fbd-412f-b1af-7f7698865a61",
   "metadata": {},
   "source": [
    "Some of the commonly used libraries used by Data Scientists include:\n",
    "1-tensorflow\n",
    "2-numpy\n",
    "3-scipy"
   ]
  },
  {
   "cell_type": "markdown",
   "id": "bd7bba28-e759-4e52-8d71-77e4e83a0abf",
   "metadata": {},
   "source": [
    "| Data Science Tools |\n",
    "|:------------------:|\n",
    "|       RStudio      |\n",
    "|     Apache Spark   |\n",
    "|     TensorFlow     |"
   ]
  },
  {
   "cell_type": "markdown",
   "id": "421534b4-1220-4d96-a773-89c523dd5d9e",
   "metadata": {},
   "source": [
    "### Below are a few examples of evaluating arithmetic expressions in Python.\n"
   ]
  },
  {
   "cell_type": "code",
   "execution_count": 1,
   "id": "641a1196-4093-494b-9755-ccfee17bb6e7",
   "metadata": {
    "tags": []
   },
   "outputs": [
    {
     "name": "stdout",
     "output_type": "stream",
     "text": [
      "17\n"
     ]
    }
   ],
   "source": [
    "sum = (3*4)+5 # This a simple arithmetic expression to mutiply then add integers.\n",
    "print(sum)"
   ]
  },
  {
   "cell_type": "code",
   "execution_count": 2,
   "id": "58b77462-6d9f-4f75-abd7-d5ba819de099",
   "metadata": {
    "tags": []
   },
   "outputs": [
    {
     "name": "stdout",
     "output_type": "stream",
     "text": [
      "03:20\n"
     ]
    }
   ],
   "source": [
    "#This will convert 200 minutes to hours by diving by 60\n",
    "total_minutes = 200\n",
    "hours = total_minutes // 60\n",
    "minutes = total_minutes % 60\n",
    "formatted_time = f\"{hours:02d}:{minutes:02d}\"\n",
    "print(formatted_time)"
   ]
  }
 ],
 "metadata": {
  "kernelspec": {
   "display_name": "Python 3 (ipykernel)",
   "language": "python",
   "name": "python3"
  },
  "language_info": {
   "codemirror_mode": {
    "name": "ipython",
    "version": 3
   },
   "file_extension": ".py",
   "mimetype": "text/x-python",
   "name": "python",
   "nbconvert_exporter": "python",
   "pygments_lexer": "ipython3",
   "version": "3.11.5"
  }
 },
 "nbformat": 4,
 "nbformat_minor": 5
}
